{
 "cells": [
  {
   "cell_type": "markdown",
   "id": "15e9ec4f",
   "metadata": {},
   "source": [
    "# KHÁM PHÁ DỮ LIỆU\n",
    "\n",
    "Dữ liệu chứa trong file `tips.csv` chứa thông tin tiền tip của khách hàng tại một nhà hàng. Dữ liệu có các thông tin sau:\n",
    "\n",
    "- `total_bill`: tổng hoá đơn (USD)\n",
    "- `tip`: tiền tip/ tiền boa (USD)\n",
    "- `sex`: giới tính người thanh toán hóa đơn\n",
    "- `smoker`: có hút thuốc hay không\n",
    "- `day`: ngày trong tuần\n",
    "- `time`: thời gian dùng bữa(buổi sáng, buổi trưa, buổi tối)\n",
    "- `size`: số lượng người tham gia\n",
    "\n",
    "Bạn hãy thực hiện thống kê mô tả để tìm hiểu về hành vi tip của khách hàng tại nhà hàng"
   ]
  },
  {
   "cell_type": "markdown",
   "id": "02bd0e4c",
   "metadata": {},
   "source": [
    "## HIỂU DỮ LIỆU"
   ]
  },
  {
   "cell_type": "markdown",
   "id": "d846edfc",
   "metadata": {},
   "source": [
    "1. Đọc dữ liệu\n",
    "2. Xoá cột `Unnamed: 0`\n",
    "3. Cho biết dữ liệu có bao nhiêu dòng, bao nhiêu thuộc tính.\n",
    "4. Trong các thuộc tính, thuộc tính nào là thuộc tính phân loại, thuộc tính nào là thuộc tính định lượng\n",
    "5. Có bao nhiêu nam, bao nhiêu nữ. Tỷ lệ bao nhiêu?\n",
    "6. Có bao nhiêu người hút thuốc. Tỷ lệ bao nhiêu?\n",
    "7. Ngày nào trong tuần khách hàng hay đến dùng bữa nhất. Tỷ lệ bao nhiêu?\n",
    "8. Nhà hàng phục vụ bữa ăn nào nhiều nhất (Breakfast, Lunch, Dinner)?\n",
    "9. Nhóm khách hàng dùng bữa tại nhà hàng nhiều nhất là bao nhiêu người?\n",
    "10. Trung bình trong một bữa ăn nhà hàng phục vụ mấy khách?"
   ]
  },
  {
   "cell_type": "markdown",
   "id": "f00a377c",
   "metadata": {},
   "source": [
    "## YẾU TỐ ẢNH HƯỞNG ĐẾN TIỀN TIP\n",
    "\n",
    "Trong phần này, chúng ta thử tìm hiểu về tiền tip tại nhà hàng và các yếu tố có thể ảnh hưởng đến nó"
   ]
  },
  {
   "cell_type": "markdown",
   "id": "ba58ca8d",
   "metadata": {},
   "source": [
    "1. Tỷ lệ nhận được tiền tip của nhà hàng là bao nhiêu?\n",
    "2. Tỷ lệ tiền tip trên tổng hóa đơn là bao nhiêu?\n",
    "3. Giữa nam và nữ ai tip nhiều tiền hơn, ai tip thường xuyên hơn?\n",
    "4. Giữa người hút thuốc và người không hút thuốc ai tip nhiều tiền hơn, ai tip thường xuyên hơn?\n",
    "5. Thống kê tổng số tiền tip nhận được theo ngày."
   ]
  },
  {
   "cell_type": "markdown",
   "id": "de38a759",
   "metadata": {},
   "source": [
    "# TRỰC QUAN DỮ LIỆU\n",
    "\n",
    "Để dễ hình dung, bạn hãy trực quan với một số câu hỏi sau đây:\n",
    "\n",
    "1. Vẽ đồ thị thể hiện tổng tiền tip theo ngày\n",
    "2. Vẽ đồ thị thể hiện tổng tiền tip theo bữa ăn (time)\n",
    "3. Vẽ đồ thị histogram của tổng hoá đơn\n",
    "4. Vẽ đồ thị boxplot của tổng hoá đơn\n",
    "5. Vẽ đồ thị để kiểm tra sự liên quan giữa tổng hoá đơn và tiền tip.\n",
    "6. So sánh số tiền mà khách hàng đã chi giữa các ngày trong tuần."
   ]
  },
  {
   "cell_type": "markdown",
   "id": "d5c79bea",
   "metadata": {},
   "source": [
    "## Với Matplotlib\n",
    "\n",
    "Bạn hãy trực quan với thư viện matplotlib"
   ]
  },
  {
   "cell_type": "markdown",
   "id": "816cf7bf",
   "metadata": {},
   "source": [
    "## Với Seaborn\n",
    "\n",
    "Bạn hãy tìm hiểu và trực quan với thư viện seaborn"
   ]
  },
  {
   "cell_type": "code",
   "execution_count": 1,
   "id": "eb35f63a",
   "metadata": {},
   "outputs": [],
   "source": [
    "import pandas as pd"
   ]
  },
  {
   "cell_type": "code",
   "execution_count": 2,
   "id": "751a7382",
   "metadata": {},
   "outputs": [],
   "source": [
    "df = pd.read_csv('tips.csv')"
   ]
  },
  {
   "cell_type": "code",
   "execution_count": 3,
   "id": "41df666b",
   "metadata": {},
   "outputs": [
    {
     "data": {
      "text/html": [
       "<div>\n",
       "<style scoped>\n",
       "    .dataframe tbody tr th:only-of-type {\n",
       "        vertical-align: middle;\n",
       "    }\n",
       "\n",
       "    .dataframe tbody tr th {\n",
       "        vertical-align: top;\n",
       "    }\n",
       "\n",
       "    .dataframe thead th {\n",
       "        text-align: right;\n",
       "    }\n",
       "</style>\n",
       "<table border=\"1\" class=\"dataframe\">\n",
       "  <thead>\n",
       "    <tr style=\"text-align: right;\">\n",
       "      <th></th>\n",
       "      <th>Unnamed: 0</th>\n",
       "      <th>total_bill</th>\n",
       "      <th>tip</th>\n",
       "      <th>sex</th>\n",
       "      <th>smoker</th>\n",
       "      <th>day</th>\n",
       "      <th>time</th>\n",
       "      <th>size</th>\n",
       "    </tr>\n",
       "  </thead>\n",
       "  <tbody>\n",
       "    <tr>\n",
       "      <th>0</th>\n",
       "      <td>0</td>\n",
       "      <td>16.99</td>\n",
       "      <td>1.01</td>\n",
       "      <td>Female</td>\n",
       "      <td>No</td>\n",
       "      <td>Sun</td>\n",
       "      <td>Dinner</td>\n",
       "      <td>2</td>\n",
       "    </tr>\n",
       "    <tr>\n",
       "      <th>1</th>\n",
       "      <td>1</td>\n",
       "      <td>10.34</td>\n",
       "      <td>1.66</td>\n",
       "      <td>Male</td>\n",
       "      <td>No</td>\n",
       "      <td>Sun</td>\n",
       "      <td>Dinner</td>\n",
       "      <td>3</td>\n",
       "    </tr>\n",
       "    <tr>\n",
       "      <th>2</th>\n",
       "      <td>2</td>\n",
       "      <td>21.01</td>\n",
       "      <td>3.50</td>\n",
       "      <td>Male</td>\n",
       "      <td>No</td>\n",
       "      <td>Sun</td>\n",
       "      <td>Dinner</td>\n",
       "      <td>3</td>\n",
       "    </tr>\n",
       "    <tr>\n",
       "      <th>3</th>\n",
       "      <td>3</td>\n",
       "      <td>23.68</td>\n",
       "      <td>3.31</td>\n",
       "      <td>Male</td>\n",
       "      <td>No</td>\n",
       "      <td>Sun</td>\n",
       "      <td>Dinner</td>\n",
       "      <td>2</td>\n",
       "    </tr>\n",
       "    <tr>\n",
       "      <th>4</th>\n",
       "      <td>4</td>\n",
       "      <td>24.59</td>\n",
       "      <td>3.61</td>\n",
       "      <td>Female</td>\n",
       "      <td>No</td>\n",
       "      <td>Sun</td>\n",
       "      <td>Dinner</td>\n",
       "      <td>4</td>\n",
       "    </tr>\n",
       "  </tbody>\n",
       "</table>\n",
       "</div>"
      ],
      "text/plain": [
       "   Unnamed: 0  total_bill   tip     sex smoker  day    time  size\n",
       "0           0       16.99  1.01  Female     No  Sun  Dinner     2\n",
       "1           1       10.34  1.66    Male     No  Sun  Dinner     3\n",
       "2           2       21.01  3.50    Male     No  Sun  Dinner     3\n",
       "3           3       23.68  3.31    Male     No  Sun  Dinner     2\n",
       "4           4       24.59  3.61  Female     No  Sun  Dinner     4"
      ]
     },
     "execution_count": 3,
     "metadata": {},
     "output_type": "execute_result"
    }
   ],
   "source": [
    "df.head()"
   ]
  },
  {
   "cell_type": "code",
   "execution_count": 4,
   "id": "c18e460d",
   "metadata": {},
   "outputs": [
    {
     "name": "stdout",
     "output_type": "stream",
     "text": [
      "<class 'pandas.core.frame.DataFrame'>\n",
      "RangeIndex: 244 entries, 0 to 243\n",
      "Data columns (total 8 columns):\n",
      " #   Column      Non-Null Count  Dtype  \n",
      "---  ------      --------------  -----  \n",
      " 0   Unnamed: 0  244 non-null    int64  \n",
      " 1   total_bill  244 non-null    float64\n",
      " 2   tip         244 non-null    float64\n",
      " 3   sex         244 non-null    object \n",
      " 4   smoker      244 non-null    object \n",
      " 5   day         244 non-null    object \n",
      " 6   time        244 non-null    object \n",
      " 7   size        244 non-null    int64  \n",
      "dtypes: float64(2), int64(2), object(4)\n",
      "memory usage: 15.4+ KB\n"
     ]
    }
   ],
   "source": [
    "df.info()"
   ]
  },
  {
   "cell_type": "code",
   "execution_count": 5,
   "id": "bc4d84c1",
   "metadata": {},
   "outputs": [
    {
     "data": {
      "text/html": [
       "<div>\n",
       "<style scoped>\n",
       "    .dataframe tbody tr th:only-of-type {\n",
       "        vertical-align: middle;\n",
       "    }\n",
       "\n",
       "    .dataframe tbody tr th {\n",
       "        vertical-align: top;\n",
       "    }\n",
       "\n",
       "    .dataframe thead th {\n",
       "        text-align: right;\n",
       "    }\n",
       "</style>\n",
       "<table border=\"1\" class=\"dataframe\">\n",
       "  <thead>\n",
       "    <tr style=\"text-align: right;\">\n",
       "      <th></th>\n",
       "      <th>Unnamed: 0</th>\n",
       "      <th>total_bill</th>\n",
       "      <th>tip</th>\n",
       "      <th>size</th>\n",
       "    </tr>\n",
       "  </thead>\n",
       "  <tbody>\n",
       "    <tr>\n",
       "      <th>count</th>\n",
       "      <td>244.000000</td>\n",
       "      <td>244.000000</td>\n",
       "      <td>244.000000</td>\n",
       "      <td>244.000000</td>\n",
       "    </tr>\n",
       "    <tr>\n",
       "      <th>mean</th>\n",
       "      <td>121.500000</td>\n",
       "      <td>19.785943</td>\n",
       "      <td>2.998279</td>\n",
       "      <td>2.569672</td>\n",
       "    </tr>\n",
       "    <tr>\n",
       "      <th>std</th>\n",
       "      <td>70.580923</td>\n",
       "      <td>8.902412</td>\n",
       "      <td>1.383638</td>\n",
       "      <td>0.951100</td>\n",
       "    </tr>\n",
       "    <tr>\n",
       "      <th>min</th>\n",
       "      <td>0.000000</td>\n",
       "      <td>3.070000</td>\n",
       "      <td>1.000000</td>\n",
       "      <td>1.000000</td>\n",
       "    </tr>\n",
       "    <tr>\n",
       "      <th>25%</th>\n",
       "      <td>60.750000</td>\n",
       "      <td>13.347500</td>\n",
       "      <td>2.000000</td>\n",
       "      <td>2.000000</td>\n",
       "    </tr>\n",
       "    <tr>\n",
       "      <th>50%</th>\n",
       "      <td>121.500000</td>\n",
       "      <td>17.795000</td>\n",
       "      <td>2.900000</td>\n",
       "      <td>2.000000</td>\n",
       "    </tr>\n",
       "    <tr>\n",
       "      <th>75%</th>\n",
       "      <td>182.250000</td>\n",
       "      <td>24.127500</td>\n",
       "      <td>3.562500</td>\n",
       "      <td>3.000000</td>\n",
       "    </tr>\n",
       "    <tr>\n",
       "      <th>max</th>\n",
       "      <td>243.000000</td>\n",
       "      <td>50.810000</td>\n",
       "      <td>10.000000</td>\n",
       "      <td>6.000000</td>\n",
       "    </tr>\n",
       "  </tbody>\n",
       "</table>\n",
       "</div>"
      ],
      "text/plain": [
       "       Unnamed: 0  total_bill         tip        size\n",
       "count  244.000000  244.000000  244.000000  244.000000\n",
       "mean   121.500000   19.785943    2.998279    2.569672\n",
       "std     70.580923    8.902412    1.383638    0.951100\n",
       "min      0.000000    3.070000    1.000000    1.000000\n",
       "25%     60.750000   13.347500    2.000000    2.000000\n",
       "50%    121.500000   17.795000    2.900000    2.000000\n",
       "75%    182.250000   24.127500    3.562500    3.000000\n",
       "max    243.000000   50.810000   10.000000    6.000000"
      ]
     },
     "execution_count": 5,
     "metadata": {},
     "output_type": "execute_result"
    }
   ],
   "source": [
    "df.describe()"
   ]
  },
  {
   "cell_type": "code",
   "execution_count": 11,
   "id": "fa9a8279",
   "metadata": {},
   "outputs": [],
   "source": [
    "df.drop(columns='Unnamed: 0', inplace=True)"
   ]
  },
  {
   "cell_type": "code",
   "execution_count": 12,
   "id": "d17eba9f",
   "metadata": {},
   "outputs": [
    {
     "data": {
      "text/plain": [
       "(244, 7)"
      ]
     },
     "execution_count": 12,
     "metadata": {},
     "output_type": "execute_result"
    }
   ],
   "source": [
    "df.shape"
   ]
  },
  {
   "cell_type": "code",
   "execution_count": 13,
   "id": "cb8ce028",
   "metadata": {},
   "outputs": [
    {
     "name": "stdout",
     "output_type": "stream",
     "text": [
      "<class 'pandas.core.frame.DataFrame'>\n",
      "RangeIndex: 244 entries, 0 to 243\n",
      "Data columns (total 7 columns):\n",
      " #   Column      Non-Null Count  Dtype  \n",
      "---  ------      --------------  -----  \n",
      " 0   total_bill  244 non-null    float64\n",
      " 1   tip         244 non-null    float64\n",
      " 2   sex         244 non-null    object \n",
      " 3   smoker      244 non-null    object \n",
      " 4   day         244 non-null    object \n",
      " 5   time        244 non-null    object \n",
      " 6   size        244 non-null    int64  \n",
      "dtypes: float64(2), int64(1), object(4)\n",
      "memory usage: 13.5+ KB\n"
     ]
    }
   ],
   "source": [
    "df.info()"
   ]
  },
  {
   "cell_type": "code",
   "execution_count": 30,
   "id": "89b048b3",
   "metadata": {},
   "outputs": [
    {
     "data": {
      "text/plain": [
       "sex\n",
       "Male      64.344262\n",
       "Female    35.655738\n",
       "Name: count, dtype: float64"
      ]
     },
     "execution_count": 30,
     "metadata": {},
     "output_type": "execute_result"
    }
   ],
   "source": [
    "cnt_male = df['sex'].value_counts()\n",
    "per_male = cnt_male/len(df['sex']) * 100\n",
    "per_male"
   ]
  },
  {
   "cell_type": "code",
   "execution_count": 32,
   "id": "14c80353",
   "metadata": {},
   "outputs": [
    {
     "data": {
      "text/plain": [
       "smoker\n",
       "No     61.885246\n",
       "Yes    38.114754\n",
       "Name: count, dtype: float64"
      ]
     },
     "execution_count": 32,
     "metadata": {},
     "output_type": "execute_result"
    }
   ],
   "source": [
    "cnt_smoker = df['smoker'].value_counts()\n",
    "per_smoker = cnt_smoker / len(df['smoker']) * 100\n",
    "per_smoker"
   ]
  },
  {
   "cell_type": "code",
   "execution_count": 34,
   "id": "042f1e75",
   "metadata": {},
   "outputs": [
    {
     "data": {
      "text/plain": [
       "day\n",
       "Sat     35.655738\n",
       "Sun     31.147541\n",
       "Thur    25.409836\n",
       "Fri      7.786885\n",
       "Name: count, dtype: float64"
      ]
     },
     "execution_count": 34,
     "metadata": {},
     "output_type": "execute_result"
    }
   ],
   "source": [
    "cnt_day = df['day'].value_counts()\n",
    "per_day = cnt_day / len(df['day']) * 100\n",
    "per_day"
   ]
  },
  {
   "cell_type": "code",
   "execution_count": 35,
   "id": "d3baf738",
   "metadata": {},
   "outputs": [
    {
     "data": {
      "text/plain": [
       "time\n",
       "Dinner    72.131148\n",
       "Lunch     27.868852\n",
       "Name: count, dtype: float64"
      ]
     },
     "execution_count": 35,
     "metadata": {},
     "output_type": "execute_result"
    }
   ],
   "source": [
    "cnt_meal = df['time'].value_counts()\n",
    "per_meal = cnt_meal / len(df['time']) * 100\n",
    "per_meal"
   ]
  },
  {
   "cell_type": "code",
   "execution_count": 42,
   "id": "5dcd8d07",
   "metadata": {},
   "outputs": [
    {
     "data": {
      "text/plain": [
       "sex\n",
       "Female    246.51\n",
       "Male      485.07\n",
       "Name: tip, dtype: float64"
      ]
     },
     "execution_count": 42,
     "metadata": {},
     "output_type": "execute_result"
    }
   ],
   "source": [
    "new_df = df.groupby('sex')['tip'].sum()\n",
    "new_df"
   ]
  },
  {
   "cell_type": "code",
   "execution_count": null,
   "id": "606f5720",
   "metadata": {},
   "outputs": [],
   "source": []
  }
 ],
 "metadata": {
  "kernelspec": {
   "display_name": "Python 3 (ipykernel)",
   "language": "python",
   "name": "python3"
  },
  "language_info": {
   "codemirror_mode": {
    "name": "ipython",
    "version": 3
   },
   "file_extension": ".py",
   "mimetype": "text/x-python",
   "name": "python",
   "nbconvert_exporter": "python",
   "pygments_lexer": "ipython3",
   "version": "3.10.11"
  }
 },
 "nbformat": 4,
 "nbformat_minor": 5
}
